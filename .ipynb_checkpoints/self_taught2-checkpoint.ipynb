{
 "cells": [
  {
   "cell_type": "markdown",
   "metadata": {},
   "source": [
    "## Act8 about module"
   ]
  },
  {
   "cell_type": "code",
   "execution_count": 1,
   "metadata": {},
   "outputs": [
    {
     "data": {
      "text/plain": [
       "512.0"
      ]
     },
     "execution_count": 1,
     "metadata": {},
     "output_type": "execute_result"
    }
   ],
   "source": [
    "import math\n",
    "math.pow(8,3)"
   ]
  },
  {
   "cell_type": "code",
   "execution_count": 3,
   "metadata": {},
   "outputs": [
    {
     "data": {
      "text/plain": [
       "3"
      ]
     },
     "execution_count": 3,
     "metadata": {},
     "output_type": "execute_result"
    }
   ],
   "source": [
    "import random\n",
    "random.randint(1,10)"
   ]
  },
  {
   "cell_type": "code",
   "execution_count": 8,
   "metadata": {},
   "outputs": [
    {
     "data": {
      "text/plain": [
       "25.625"
      ]
     },
     "execution_count": 8,
     "metadata": {},
     "output_type": "execute_result"
    }
   ],
   "source": [
    "import statistics as stat\n",
    "\n",
    "nums = [8,3,55,12,43,7,74,3]\n",
    "stat.mean(nums)\n"
   ]
  },
  {
   "cell_type": "code",
   "execution_count": 11,
   "metadata": {},
   "outputs": [
    {
     "data": {
      "text/plain": [
       "10.0"
      ]
     },
     "execution_count": 11,
     "metadata": {},
     "output_type": "execute_result"
    }
   ],
   "source": [
    "stat.median(nums)"
   ]
  },
  {
   "cell_type": "code",
   "execution_count": 10,
   "metadata": {},
   "outputs": [
    {
     "data": {
      "text/plain": [
       "3"
      ]
     },
     "execution_count": 10,
     "metadata": {},
     "output_type": "execute_result"
    }
   ],
   "source": [
    "stat.mode(nums)"
   ]
  },
  {
   "cell_type": "code",
   "execution_count": 12,
   "metadata": {},
   "outputs": [
    {
     "data": {
      "text/plain": [
       "25.91301555203485"
      ]
     },
     "execution_count": 12,
     "metadata": {},
     "output_type": "execute_result"
    }
   ],
   "source": [
    "#q1\n",
    "stat.pstdev(nums)"
   ]
  },
  {
   "cell_type": "markdown",
   "metadata": {},
   "source": [
    "## Act9 about file"
   ]
  },
  {
   "cell_type": "code",
   "execution_count": 13,
   "metadata": {},
   "outputs": [],
   "source": [
    "st = open('st.txt','w')\n",
    "st.write('Hi from Python!')\n",
    "st.close()"
   ]
  },
  {
   "cell_type": "code",
   "execution_count": 14,
   "metadata": {},
   "outputs": [],
   "source": [
    "st = open('st.txt','w',encoding='utf-8')\n",
    "st.write('こんにちは、Pythonだよ')\n",
    "st.close()"
   ]
  },
  {
   "cell_type": "code",
   "execution_count": 15,
   "metadata": {},
   "outputs": [],
   "source": [
    "with open('st.txt','w') as f:\n",
    "    f.write('hogeeeeeeee')"
   ]
  },
  {
   "cell_type": "code",
   "execution_count": 16,
   "metadata": {},
   "outputs": [
    {
     "name": "stdout",
     "output_type": "stream",
     "text": [
      "hogeeeeeeee\n"
     ]
    }
   ],
   "source": [
    "with open('st.txt','r')as f:\n",
    "    print(f.read())"
   ]
  },
  {
   "cell_type": "code",
   "execution_count": 17,
   "metadata": {},
   "outputs": [],
   "source": [
    "with open('st.csv','w') as f:\n",
    "    f.write('one,two,three\\nfour,five,six')"
   ]
  },
  {
   "cell_type": "code",
   "execution_count": 18,
   "metadata": {},
   "outputs": [
    {
     "name": "stdout",
     "output_type": "stream",
     "text": [
      "one,two,three\n",
      "four,five,six\n"
     ]
    }
   ],
   "source": [
    "import csv\n",
    "with open('st.csv','r') as f:\n",
    "    r = csv.reader(f,delimiter=',')\n",
    "    for row in r:\n",
    "        print(','.join(row))"
   ]
  },
  {
   "cell_type": "code",
   "execution_count": 19,
   "metadata": {},
   "outputs": [
    {
     "name": "stdout",
     "output_type": "stream",
     "text": [
      "def cubed(x):\n",
      "    return x ** 3\n"
     ]
    }
   ],
   "source": [
    "#q1\n",
    "with open('cubed.py','r') as f:\n",
    "    a = f.read()\n",
    "    print(a)"
   ]
  },
  {
   "cell_type": "code",
   "execution_count": 21,
   "metadata": {},
   "outputs": [
    {
     "name": "stdout",
     "output_type": "stream",
     "text": [
      "What's your name?Soshi\n",
      "Soshi\n"
     ]
    }
   ],
   "source": [
    "#q2\n",
    "ans = input('What\\'s your name?')\n",
    "with open('st.txt','w',encoding='utf-8') as f:\n",
    "    f.write(ans)\n",
    "with open('st.txt','r') as f:\n",
    "    print(f.read())"
   ]
  },
  {
   "cell_type": "code",
   "execution_count": 24,
   "metadata": {},
   "outputs": [],
   "source": [
    "#q3\n",
    "import csv\n",
    "lists = [['Top Gun','Risky Business','Minority Report'],\n",
    "        ['Titanic','The Revenant','Inception'],\n",
    "        ['Training Day','Man on Fire','Flight']]\n",
    "with open('q3.csv','w') as f:\n",
    "    w = csv.writer(f,delimiter=',')\n",
    "    for i,l in enumerate(lists):\n",
    "        w.writerow(lists[i])\n",
    "        "
   ]
  },
  {
   "cell_type": "markdown",
   "metadata": {},
   "source": [
    "## Act10 about making hangman"
   ]
  },
  {
   "cell_type": "code",
   "execution_count": 38,
   "metadata": {},
   "outputs": [
    {
     "name": "stdout",
     "output_type": "stream",
     "text": [
      "Welcome to Hangman\n",
      "\n",
      "\n",
      "predict a letter:a\n",
      "_ _ _\n",
      "\n",
      "________      \n",
      "\n",
      "\n",
      "predict a letter:t\n",
      "_ _ _\n",
      "\n",
      "________      \n",
      "|      |      \n",
      "\n",
      "\n",
      "predict a letter:d\n",
      "d _ _\n",
      "\n",
      "________      \n",
      "|      |      \n",
      "\n",
      "\n",
      "predict a letter:o\n",
      "d o _\n",
      "\n",
      "________      \n",
      "|      |      \n",
      "\n",
      "\n",
      "predict a letter:g\n",
      "d o g\n",
      "\n",
      "________      \n",
      "|      |      \n",
      "you win!\n",
      "d o g\n"
     ]
    }
   ],
   "source": [
    "import random\n",
    "\n",
    "def hangman(word):\n",
    "    \"\"\"\n",
    "    managing hangman game.\n",
    "    :param word: str. player predict it.\n",
    "    :wrong: int. number of player\\'s mistake.\n",
    "    :stages: list of str. picture of hangman.\n",
    "    :rletters: list of str. memorize word.\n",
    "    :board: list of str. hint of word.\n",
    "    :win: bool. \n",
    "    \"\"\"\n",
    "    wrong = 0\n",
    "    stages = [\"\", \"________      \", \"|      |      \", \"|      0      \", \"|     /|\\     \", \"|     / \\     \", \"|\"]\n",
    "    rletters = list(word)\n",
    "    board = [\"_\"] * len(word)\n",
    "    win = False\n",
    "    print('Welcome to Hangman')\n",
    "    \n",
    "    while wrong < len(stages)-1:\n",
    "        print('\\n')\n",
    "        char = input('predict a letter:')\n",
    "        if char in rletters:\n",
    "            cind = rletters.index(char)\n",
    "            board[cind] = char\n",
    "            rletters[cind] = '$'\n",
    "        else:\n",
    "            wrong += 1\n",
    "        print(' '.join(board))\n",
    "        e = wrong +1\n",
    "        print('\\n'.join(stages[0:e]))\n",
    "        if '_' not in board:\n",
    "            print('you win!')\n",
    "            print(' '.join(board))\n",
    "            win = True\n",
    "            break\n",
    "    if not win:\n",
    "        print('\\n'.join(stages[0:wrong+1]))\n",
    "        print('you lose! the answer is {}.'.format(word))\n",
    "        \n",
    "words = ['kafka','eminem','machine','cat','dog','phoenix']\n",
    "i = random.randint(0,len(words))\n",
    "hangman(words[i])"
   ]
  },
  {
   "cell_type": "markdown",
   "metadata": {},
   "source": [
    "## Act12 about OOP"
   ]
  },
  {
   "cell_type": "code",
   "execution_count": 3,
   "metadata": {},
   "outputs": [
    {
     "name": "stdout",
     "output_type": "stream",
     "text": [
      "<__main__.Apple object at 0x1055d8208>\n"
     ]
    }
   ],
   "source": [
    "#q1\n",
    "class Apple:\n",
    "    def __init__(self,t,c,p,w):\n",
    "        self.taste = t\n",
    "        self.color = c\n",
    "        self.price = p\n",
    "        self.weight = w\n",
    "\n",
    "apple = Apple('sweet','red',100,200)\n",
    "print(apple)"
   ]
  },
  {
   "cell_type": "code",
   "execution_count": 6,
   "metadata": {},
   "outputs": [
    {
     "name": "stdout",
     "output_type": "stream",
     "text": [
      "201.06192982974676\n"
     ]
    }
   ],
   "source": [
    "#q2\n",
    "import math\n",
    "class Circle:\n",
    "    def __init__(self,r):\n",
    "        self.radius = r\n",
    "    \n",
    "    def area(self):\n",
    "        return self.radius**2 * math.pi\n",
    "\n",
    "circle = Circle(8)\n",
    "print(circle.area())"
   ]
  },
  {
   "cell_type": "code",
   "execution_count": 7,
   "metadata": {},
   "outputs": [
    {
     "name": "stdout",
     "output_type": "stream",
     "text": [
      "16.0\n"
     ]
    }
   ],
   "source": [
    "#q3\n",
    "class Triangle:\n",
    "    def __init__(self,h,l):\n",
    "        self.height = h\n",
    "        self.length = l\n",
    "    \n",
    "    def area(self):\n",
    "        return self.height * self.length / 2\n",
    "tri=Triangle(8,4)\n",
    "print(tri.area())"
   ]
  },
  {
   "cell_type": "markdown",
   "metadata": {},
   "source": [
    "## Act13 about basic concept of oop"
   ]
  },
  {
   "cell_type": "code",
   "execution_count": 12,
   "metadata": {},
   "outputs": [
    {
     "name": "stdout",
     "output_type": "stream",
     "text": [
      "26\n",
      "36\n",
      "152\n",
      "I am a shape\n",
      "I am a shape\n"
     ]
    }
   ],
   "source": [
    "#q1,2,3\n",
    "\n",
    "class Shape:\n",
    "    def __init__(self):\n",
    "        pass\n",
    "    def what_am_i(self):\n",
    "        print('I am a shape')\n",
    "\n",
    "class Rectangle(Shape):\n",
    "    def __init__(self,w,h):\n",
    "        self.wid = w\n",
    "        self.high = h\n",
    "    def calculate_perimeter(self):\n",
    "        return self.wid*2 + self.high*2\n",
    "\n",
    "class Square(Shape):\n",
    "    def __init__(self,l):\n",
    "        self.len = l\n",
    "    def calculate_perimeter(self):\n",
    "        return self.len*4\n",
    "    def change_size(self,l):\n",
    "        self.len = l\n",
    "\n",
    "rec = Rectangle(8,5)\n",
    "print(rec.calculate_perimeter())\n",
    "\n",
    "squ = Square(9)\n",
    "print(squ.calculate_perimeter())\n",
    "\n",
    "squ.change_size(38)\n",
    "print(squ.calculate_perimeter())\n",
    "\n",
    "rec.what_am_i()\n",
    "squ.what_am_i()"
   ]
  },
  {
   "cell_type": "markdown",
   "metadata": {},
   "source": [
    "#q4\n",
    "class Horse:\n",
    "    def __init__(self,name,owner):\n",
    "        self.name = name\n",
    "        self.owner = owner\n",
    "        \n",
    "class Rider:\n",
    "    def __init__(self,name):\n",
    "        self.name = name\n",
    "\n",
    "rider = Rider('tanaka')\n",
    "horse = Horse('kitasan',rider)\n",
    "print(horse.owner.name)"
   ]
  },
  {
   "cell_type": "markdown",
   "metadata": {},
   "source": [
    "## Act14 more about oop"
   ]
  },
  {
   "cell_type": "code",
   "execution_count": 18,
   "metadata": {},
   "outputs": [
    {
     "name": "stdout",
     "output_type": "stream",
     "text": [
      "[(8,)]\n",
      "8 by 8 by 8 by 8\n"
     ]
    }
   ],
   "source": [
    "#q1,2\n",
    "class Square:\n",
    "    square_list = []\n",
    "    \n",
    "    def __init__(self,l):\n",
    "        self.len = l\n",
    "        self.square_list.append((self.len,))\n",
    "        \n",
    "    def __repr__(self):\n",
    "        return str(self.len) + (' {} {}'.format('by',self.len)) *3\n",
    "        \n",
    "s1 = Square(8)\n",
    "print(Square.square_list)\n",
    "print(s1)"
   ]
  },
  {
   "cell_type": "code",
   "execution_count": 19,
   "metadata": {},
   "outputs": [
    {
     "name": "stdout",
     "output_type": "stream",
     "text": [
      "True\n",
      "False\n"
     ]
    }
   ],
   "source": [
    "#q3\n",
    "def same_or_not(a,b):\n",
    "    if a is b:\n",
    "        return True\n",
    "    else:\n",
    "        return False\n",
    "s2 = s1\n",
    "s3 = Square(2)\n",
    "print(same_or_not(s1,s2))\n",
    "print(same_or_not(s1,s3))"
   ]
  },
  {
   "cell_type": "markdown",
   "metadata": {},
   "source": [
    "## Act15 about making war game"
   ]
  },
  {
   "cell_type": "code",
   "execution_count": 28,
   "metadata": {},
   "outputs": [],
   "source": [
    "class Card:\n",
    "    suits = ['spade','heart','diamond','club']\n",
    "    values = [None,None,'2','3','4','5','6','7','8','9','10','Jack','Queen','King','Ace']\n",
    "    \n",
    "    def __init__(self,v,s):\n",
    "        \"\"\"sはインデックス値\"\"\"\n",
    "        self.suit = s\n",
    "        self.value = v\n",
    "        \n",
    "    def __lt__(self,c2):\n",
    "        if self.value < c2.value:\n",
    "            return True\n",
    "        if self.value == c2.value:\n",
    "            return self.suit <c2.suit\n",
    "        return False\n",
    "    \n",
    "    def __gt__(self,c2):\n",
    "        if self.value > c2.value:\n",
    "            return True\n",
    "        if self.value == c2.value:\n",
    "            return self.suit > c2.suit\n",
    "        return False\n",
    "    \n",
    "    def __repr__(self):\n",
    "        v = self.values[self.value] + ' of ' \\\n",
    "            + self.suits[self.suit]\n",
    "        return v\n",
    "\n",
    "from random import shuffle\n",
    "class Deck:\n",
    "    def __init__(self):\n",
    "        self.cards = []\n",
    "        for i in range(2,15):\n",
    "            for j in range(4):\n",
    "                self.cards.append(Card(i,j))\n",
    "        shuffle(self.cards)\n",
    "    \n",
    "    def draw(self):\n",
    "        if len(self.cards) == 0:\n",
    "            return\n",
    "        return self.cards.pop()\n",
    "\n",
    "class Player:\n",
    "    def __init__(self,name):\n",
    "        self.wins = 0\n",
    "        self.card = None\n",
    "        self.name = name\n",
    "\n",
    "class Game:\n",
    "    def __init__(self):\n",
    "        name1 = input('name of player1 ')\n",
    "        name2 = input('name of player2 ')\n",
    "        self.deck = Deck()\n",
    "        self.p1 = Player(name1)\n",
    "        self.p2 = Player(name2)\n",
    "        \n",
    "    def print_winner(self,winner):\n",
    "        w = '{} is winner of this round!'.format(winner.name)\n",
    "        print(w)\n",
    "    \n",
    "    def print_draw(self,p1,p2):\n",
    "        d = '{} draw {}, {} draw {}.'.format(p1.name,p1.card,p2.name,p2.card)\n",
    "        print(d)\n",
    "    \n",
    "    \n",
    "    \n",
    "    def play_game(self):\n",
    "        cards = self.deck.cards\n",
    "        print('Start War!')\n",
    "        while len(cards) >= 2:\n",
    "            response = input('Press q to quit, other to play:')\n",
    "            if response == 'q':\n",
    "                break\n",
    "            self.p1.card = self.deck.draw()\n",
    "            self.p2.card = self.deck.draw()\n",
    "            self.print_draw(self.p1,self.p2)\n",
    "            \n",
    "            if self.p1.card > self.p2.card:\n",
    "                self.p1.wins += 1\n",
    "                self.print_winner(self.p1)\n",
    "            else:\n",
    "                self.p2.wins += 1\n",
    "                self.print_winner(self.p2)\n",
    "                \n",
    "        win = self.winner(self.p1,self.p2)\n",
    "        print('Game is over, the winner is {}!!'.format(win)) \n",
    "        \n",
    "    def winner(self,p1,p2):\n",
    "        if p1.wins > p2.wins:\n",
    "            return p1.name\n",
    "        elif p1.wins == p2.wins:\n",
    "            return 'draw'\n",
    "        else:\n",
    "            return p2.name"
   ]
  },
  {
   "cell_type": "code",
   "execution_count": 33,
   "metadata": {},
   "outputs": [
    {
     "name": "stdout",
     "output_type": "stream",
     "text": [
      "name of player1 たなか\n",
      "name of player2 さとう\n"
     ]
    }
   ],
   "source": [
    "b = Game()"
   ]
  },
  {
   "cell_type": "code",
   "execution_count": 34,
   "metadata": {},
   "outputs": [
    {
     "name": "stdout",
     "output_type": "stream",
     "text": [
      "Start War!\n",
      "Press q to quit, other to play:\n",
      "たなか draw Ace of heart, さとう draw 8 of diamond.\n",
      "たなか is winner of this round!\n",
      "Press q to quit, other to play:\n",
      "たなか draw 3 of diamond, さとう draw 7 of heart.\n",
      "さとう is winner of this round!\n",
      "Press q to quit, other to play:\n",
      "たなか draw 2 of heart, さとう draw 6 of diamond.\n",
      "さとう is winner of this round!\n",
      "Press q to quit, other to play:\n",
      "たなか draw King of spade, さとう draw 8 of heart.\n",
      "たなか is winner of this round!\n",
      "Press q to quit, other to play:\n",
      "たなか draw 4 of spade, さとう draw 2 of diamond.\n",
      "たなか is winner of this round!\n",
      "Press q to quit, other to play:\n",
      "たなか draw 7 of diamond, さとう draw Ace of spade.\n",
      "さとう is winner of this round!\n",
      "Press q to quit, other to play:\n",
      "たなか draw Queen of diamond, さとう draw Queen of club.\n",
      "さとう is winner of this round!\n",
      "Press q to quit, other to play:\n",
      "たなか draw 9 of club, さとう draw Ace of club.\n",
      "さとう is winner of this round!\n",
      "Press q to quit, other to play:\n",
      "たなか draw 3 of heart, さとう draw 8 of spade.\n",
      "さとう is winner of this round!\n",
      "Press q to quit, other to play:\n",
      "たなか draw 4 of diamond, さとう draw 10 of club.\n",
      "さとう is winner of this round!\n",
      "Press q to quit, other to play:\n",
      "たなか draw 5 of spade, さとう draw King of heart.\n",
      "さとう is winner of this round!\n",
      "Press q to quit, other to play:\n",
      "たなか draw 7 of club, さとう draw 2 of club.\n",
      "たなか is winner of this round!\n",
      "Press q to quit, other to play:\n",
      "たなか draw 5 of diamond, さとう draw 7 of spade.\n",
      "さとう is winner of this round!\n",
      "Press q to quit, other to play:\n",
      "たなか draw Jack of diamond, さとう draw 2 of spade.\n",
      "たなか is winner of this round!\n",
      "Press q to quit, other to play:\n",
      "たなか draw 9 of diamond, さとう draw 6 of club.\n",
      "たなか is winner of this round!\n",
      "Press q to quit, other to play:\n",
      "たなか draw Ace of diamond, さとう draw Jack of spade.\n",
      "たなか is winner of this round!\n",
      "Press q to quit, other to play:\n",
      "たなか draw 9 of spade, さとう draw 5 of heart.\n",
      "たなか is winner of this round!\n",
      "Press q to quit, other to play:\n",
      "たなか draw Queen of spade, さとう draw 10 of heart.\n",
      "たなか is winner of this round!\n",
      "Press q to quit, other to play:\n",
      "たなか draw 5 of club, さとう draw 10 of diamond.\n",
      "さとう is winner of this round!\n",
      "Press q to quit, other to play:\n",
      "たなか draw King of diamond, さとう draw Jack of club.\n",
      "たなか is winner of this round!\n",
      "Press q to quit, other to play:\n",
      "たなか draw 6 of spade, さとう draw 3 of club.\n",
      "たなか is winner of this round!\n",
      "Press q to quit, other to play:\n",
      "たなか draw Jack of heart, さとう draw 4 of club.\n",
      "たなか is winner of this round!\n",
      "Press q to quit, other to play:\n",
      "たなか draw Queen of heart, さとう draw King of club.\n",
      "さとう is winner of this round!\n",
      "Press q to quit, other to play:\n",
      "たなか draw 10 of spade, さとう draw 9 of heart.\n",
      "たなか is winner of this round!\n",
      "Press q to quit, other to play:\n",
      "たなか draw 8 of club, さとう draw 3 of spade.\n",
      "たなか is winner of this round!\n",
      "Press q to quit, other to play:\n",
      "たなか draw 6 of heart, さとう draw 4 of heart.\n",
      "たなか is winner of this round!\n",
      "Game is over, the winner is たなか!!\n"
     ]
    }
   ],
   "source": [
    "b.play_game()"
   ]
  },
  {
   "cell_type": "code",
   "execution_count": null,
   "metadata": {},
   "outputs": [],
   "source": [
    "\n",
    "\n"
   ]
  }
 ],
 "metadata": {
  "kernelspec": {
   "display_name": "Python 3",
   "language": "python",
   "name": "python3"
  },
  "language_info": {
   "codemirror_mode": {
    "name": "ipython",
    "version": 3
   },
   "file_extension": ".py",
   "mimetype": "text/x-python",
   "name": "python",
   "nbconvert_exporter": "python",
   "pygments_lexer": "ipython3",
   "version": "3.6.6"
  }
 },
 "nbformat": 4,
 "nbformat_minor": 2
}
