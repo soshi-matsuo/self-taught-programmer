{
 "cells": [
  {
   "cell_type": "markdown",
   "metadata": {},
   "source": [
    "## Act17 about regular expression"
   ]
  },
  {
   "cell_type": "code",
   "execution_count": 2,
   "metadata": {},
   "outputs": [
    {
     "name": "stdout",
     "output_type": "stream",
     "text": [
      "['Beautiful']\n"
     ]
    }
   ],
   "source": [
    "import re\n",
    "\n",
    "l = 'Beautiful is better than ugly.'\n",
    "matches = re.findall('beauTiful',l,re.IGNORECASE)\n",
    "\n",
    "print(matches)"
   ]
  },
  {
   "cell_type": "code",
   "execution_count": 9,
   "metadata": {},
   "outputs": [
    {
     "name": "stdout",
     "output_type": "stream",
     "text": [
      "['If', 'If']\n"
     ]
    }
   ],
   "source": [
    "import re\n",
    "zen = \"\"\"\n",
    "Beautiful is better than ugly.\n",
    "Explicit is better than implicit.\n",
    "Simple is better than complex.\n",
    "Complex is better than complicated.\n",
    "Flat is better than nested.\n",
    "Sparse is better than dense.\n",
    "Readability counts.\n",
    "Special cases aren't special enough to break the rules.\n",
    "Although practicality beats purity.\n",
    "Errors should never pass silently.\n",
    "Unless explicitly silenced.\n",
    "In the face of ambiguity, refuse the temptation to guess.\n",
    "There should be one-- and preferably only one --obvious way to do it.\n",
    "Although that way may not be obvious at first unless you're Dutch.\n",
    "Now is better than never.\n",
    "Although never is often better than *right* now.\n",
    "If the implementation is hard to explain, it's a bad idea.\n",
    "If the implementation is easy to explain, it may be a good idea.\n",
    "Namespaces are one honking great idea -- let's do more of those!\"\"\"\n",
    "    \n",
    "\n",
    "m = re.findall('^If',zen,re.MULTILINE)\n",
    "print(m)"
   ]
  },
  {
   "cell_type": "code",
   "execution_count": 10,
   "metadata": {},
   "outputs": [
    {
     "name": "stdout",
     "output_type": "stream",
     "text": [
      "['Two', 'too']\n"
     ]
    }
   ],
   "source": [
    "import re \n",
    "string = 'Two too.'\n",
    "m = re.findall('t[ow]o',string,re.IGNORECASE)\n",
    "print(m)"
   ]
  },
  {
   "cell_type": "code",
   "execution_count": 12,
   "metadata": {},
   "outputs": [
    {
     "name": "stdout",
     "output_type": "stream",
     "text": [
      "['1', '2', '3', '2', '3', '4']\n"
     ]
    }
   ],
   "source": [
    "import re \n",
    "\n",
    "line = '123 hi 234 hello.'\n",
    "m = re.findall('\\d',line,re.IGNORECASE)\n",
    "print(m\n",
    "     )"
   ]
  },
  {
   "cell_type": "code",
   "execution_count": 13,
   "metadata": {},
   "outputs": [
    {
     "name": "stdout",
     "output_type": "stream",
     "text": [
      "__one__\n",
      "__rwo__\n",
      "__three__\n"
     ]
    }
   ],
   "source": [
    "import re \n",
    "\n",
    "t = '__one__ __rwo__ __three__'\n",
    "found = re.findall('__.*?__',t)\n",
    "for match in found:\n",
    "    print(match)"
   ]
  },
  {
   "cell_type": "code",
   "execution_count": 14,
   "metadata": {},
   "outputs": [
    {
     "name": "stdout",
     "output_type": "stream",
     "text": [
      "__複数名詞__を入力:科学者たち\n",
      "__複数名詞__を入力:動物\n",
      "__体の一部__を入力:首\n",
      "__数値__を入力:3\n",
      "__単位__を入力:メートル\n",
      "__体の一部__を入力:首\n",
      "\n",
      "\n",
      "キリンは大昔から 科学者たち の興味の対象でした。キリンは 動物 の中で一番背が高いですが、科学者たちはそのような長い 首 をどうやって獲得したのか説明できません。キリンの身長は 3 メートル 近くあり、その高さの殆どは脚と 首 によるものです。\n"
     ]
    }
   ],
   "source": [
    "import re\n",
    "text = \"\"\"\n",
    "キリンは大昔から __複数名詞__ の興味の対象でした。キリンは __複数名詞__ の中で一番背が高いですが、科学者たちはそのような長い\n",
    " __体の一部__ をどうやって獲得したのか説明できません。キリンの身長は __数値__ __単位__ 近くあり、その高さの殆どは脚と __体の一部__ によるものです。\n",
    "\"\"\"\n",
    "\n",
    "def mad_libs(mls):\n",
    "    hints = re.findall('__.*?__',mls)\n",
    "    if hints is not None:\n",
    "        for word in hints:\n",
    "            new = input(\"{}を入力:\".format(word))\n",
    "            mls = mls.replace(word,new,1)\n",
    "        print('\\n')\n",
    "        mls = mls.replace('\\n','')\n",
    "        print(mls)\n",
    "    else:\n",
    "        print('引数mlsが無効です')\n",
    "\n",
    "mad_libs(text)"
   ]
  },
  {
   "cell_type": "code",
   "execution_count": 17,
   "metadata": {},
   "outputs": [
    {
     "name": "stdout",
     "output_type": "stream",
     "text": [
      "['$']\n"
     ]
    }
   ],
   "source": [
    "import re\n",
    "\n",
    "line = 'I love $'\n",
    "m = re.findall('\\\\$', line, re.IGNORECASE)\n",
    "\n",
    "print(m)"
   ]
  },
  {
   "cell_type": "code",
   "execution_count": 31,
   "metadata": {},
   "outputs": [
    {
     "name": "stdout",
     "output_type": "stream",
     "text": [
      "['boo', 'loo']\n"
     ]
    }
   ],
   "source": [
    "#q3\n",
    "import re\n",
    "\n",
    "line = 'The ghost that says boo haunts the loo'\n",
    "m = re.findall('.oo',line,re.IGNORECASE)\n",
    "print(m)"
   ]
  },
  {
   "cell_type": "code",
   "execution_count": 1,
   "metadata": {},
   "outputs": [
    {
     "name": "stdout",
     "output_type": "stream",
     "text": [
      "aa\n"
     ]
    }
   ],
   "source": [
    "print('aa')"
   ]
  }
 ],
 "metadata": {
  "kernelspec": {
   "display_name": "Python 3",
   "language": "python",
   "name": "python3"
  },
  "language_info": {
   "codemirror_mode": {
    "name": "ipython",
    "version": 3
   },
   "file_extension": ".py",
   "mimetype": "text/x-python",
   "name": "python",
   "nbconvert_exporter": "python",
   "pygments_lexer": "ipython3",
   "version": "3.6.6"
  }
 },
 "nbformat": 4,
 "nbformat_minor": 2
}
