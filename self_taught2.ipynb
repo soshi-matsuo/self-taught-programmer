{
 "cells": [
  {
   "cell_type": "markdown",
   "metadata": {},
   "source": [
    "## Act8 about module"
   ]
  },
  {
   "cell_type": "code",
   "execution_count": 1,
   "metadata": {},
   "outputs": [
    {
     "data": {
      "text/plain": [
       "512.0"
      ]
     },
     "execution_count": 1,
     "metadata": {},
     "output_type": "execute_result"
    }
   ],
   "source": [
    "import math\n",
    "math.pow(8,3)"
   ]
  },
  {
   "cell_type": "code",
   "execution_count": 3,
   "metadata": {},
   "outputs": [
    {
     "data": {
      "text/plain": [
       "3"
      ]
     },
     "execution_count": 3,
     "metadata": {},
     "output_type": "execute_result"
    }
   ],
   "source": [
    "import random\n",
    "random.randint(1,10)"
   ]
  },
  {
   "cell_type": "code",
   "execution_count": 8,
   "metadata": {},
   "outputs": [
    {
     "data": {
      "text/plain": [
       "25.625"
      ]
     },
     "execution_count": 8,
     "metadata": {},
     "output_type": "execute_result"
    }
   ],
   "source": [
    "import statistics as stat\n",
    "\n",
    "nums = [8,3,55,12,43,7,74,3]\n",
    "stat.mean(nums)\n"
   ]
  },
  {
   "cell_type": "code",
   "execution_count": 11,
   "metadata": {},
   "outputs": [
    {
     "data": {
      "text/plain": [
       "10.0"
      ]
     },
     "execution_count": 11,
     "metadata": {},
     "output_type": "execute_result"
    }
   ],
   "source": [
    "stat.median(nums)"
   ]
  },
  {
   "cell_type": "code",
   "execution_count": 10,
   "metadata": {},
   "outputs": [
    {
     "data": {
      "text/plain": [
       "3"
      ]
     },
     "execution_count": 10,
     "metadata": {},
     "output_type": "execute_result"
    }
   ],
   "source": [
    "stat.mode(nums)"
   ]
  },
  {
   "cell_type": "code",
   "execution_count": 12,
   "metadata": {},
   "outputs": [
    {
     "data": {
      "text/plain": [
       "25.91301555203485"
      ]
     },
     "execution_count": 12,
     "metadata": {},
     "output_type": "execute_result"
    }
   ],
   "source": [
    "#q1\n",
    "stat.pstdev(nums)"
   ]
  },
  {
   "cell_type": "markdown",
   "metadata": {},
   "source": [
    "## Act9 about file"
   ]
  },
  {
   "cell_type": "code",
   "execution_count": 13,
   "metadata": {},
   "outputs": [],
   "source": [
    "st = open('st.txt','w')\n",
    "st.write('Hi from Python!')\n",
    "st.close()"
   ]
  },
  {
   "cell_type": "code",
   "execution_count": 14,
   "metadata": {},
   "outputs": [],
   "source": [
    "st = open('st.txt','w',encoding='utf-8')\n",
    "st.write('こんにちは、Pythonだよ')\n",
    "st.close()"
   ]
  },
  {
   "cell_type": "code",
   "execution_count": 15,
   "metadata": {},
   "outputs": [],
   "source": [
    "with open('st.txt','w') as f:\n",
    "    f.write('hogeeeeeeee')"
   ]
  },
  {
   "cell_type": "code",
   "execution_count": 16,
   "metadata": {},
   "outputs": [
    {
     "name": "stdout",
     "output_type": "stream",
     "text": [
      "hogeeeeeeee\n"
     ]
    }
   ],
   "source": [
    "with open('st.txt','r')as f:\n",
    "    print(f.read())"
   ]
  },
  {
   "cell_type": "code",
   "execution_count": 17,
   "metadata": {},
   "outputs": [],
   "source": [
    "with open('st.csv','w') as f:\n",
    "    f.write('one,two,three\\nfour,five,six')"
   ]
  },
  {
   "cell_type": "code",
   "execution_count": 18,
   "metadata": {},
   "outputs": [
    {
     "name": "stdout",
     "output_type": "stream",
     "text": [
      "one,two,three\n",
      "four,five,six\n"
     ]
    }
   ],
   "source": [
    "import csv\n",
    "with open('st.csv','r') as f:\n",
    "    r = csv.reader(f,delimiter=',')\n",
    "    for row in r:\n",
    "        print(','.join(row))"
   ]
  },
  {
   "cell_type": "code",
   "execution_count": 19,
   "metadata": {},
   "outputs": [
    {
     "name": "stdout",
     "output_type": "stream",
     "text": [
      "def cubed(x):\n",
      "    return x ** 3\n"
     ]
    }
   ],
   "source": [
    "#q1\n",
    "with open('cubed.py','r') as f:\n",
    "    a = f.read()\n",
    "    print(a)"
   ]
  },
  {
   "cell_type": "code",
   "execution_count": 21,
   "metadata": {},
   "outputs": [
    {
     "name": "stdout",
     "output_type": "stream",
     "text": [
      "What's your name?Soshi\n",
      "Soshi\n"
     ]
    }
   ],
   "source": [
    "#q2\n",
    "ans = input('What\\'s your name?')\n",
    "with open('st.txt','w',encoding='utf-8') as f:\n",
    "    f.write(ans)\n",
    "with open('st.txt','r') as f:\n",
    "    print(f.read())"
   ]
  },
  {
   "cell_type": "code",
   "execution_count": 24,
   "metadata": {},
   "outputs": [],
   "source": [
    "#q3\n",
    "import csv\n",
    "lists = [['Top Gun','Risky Business','Minority Report'],\n",
    "        ['Titanic','The Revenant','Inception'],\n",
    "        ['Training Day','Man on Fire','Flight']]\n",
    "with open('q3.csv','w') as f:\n",
    "    w = csv.writer(f,delimiter=',')\n",
    "    for i,l in enumerate(lists):\n",
    "        w.writerow(lists[i])\n",
    "        "
   ]
  },
  {
   "cell_type": "markdown",
   "metadata": {},
   "source": [
    "## Act10 about making hangman"
   ]
  },
  {
   "cell_type": "code",
   "execution_count": 38,
   "metadata": {},
   "outputs": [
    {
     "name": "stdout",
     "output_type": "stream",
     "text": [
      "Welcome to Hangman\n",
      "\n",
      "\n",
      "predict a letter:a\n",
      "_ _ _\n",
      "\n",
      "________      \n",
      "\n",
      "\n",
      "predict a letter:t\n",
      "_ _ _\n",
      "\n",
      "________      \n",
      "|      |      \n",
      "\n",
      "\n",
      "predict a letter:d\n",
      "d _ _\n",
      "\n",
      "________      \n",
      "|      |      \n",
      "\n",
      "\n",
      "predict a letter:o\n",
      "d o _\n",
      "\n",
      "________      \n",
      "|      |      \n",
      "\n",
      "\n",
      "predict a letter:g\n",
      "d o g\n",
      "\n",
      "________      \n",
      "|      |      \n",
      "you win!\n",
      "d o g\n"
     ]
    }
   ],
   "source": [
    "import random\n",
    "\n",
    "def hangman(word):\n",
    "    \"\"\"\n",
    "    managing hangman game.\n",
    "    :param word: str. player predict it.\n",
    "    :wrong: int. number of player\\'s mistake.\n",
    "    :stages: list of str. picture of hangman.\n",
    "    :rletters: list of str. memorize word.\n",
    "    :board: list of str. hint of word.\n",
    "    :win: bool. \n",
    "    \"\"\"\n",
    "    wrong = 0\n",
    "    stages = [\"\", \"________      \", \"|      |      \", \"|      0      \", \"|     /|\\     \", \"|     / \\     \", \"|\"]\n",
    "    rletters = list(word)\n",
    "    board = [\"_\"] * len(word)\n",
    "    win = False\n",
    "    print('Welcome to Hangman')\n",
    "    \n",
    "    while wrong < len(stages)-1:\n",
    "        print('\\n')\n",
    "        char = input('predict a letter:')\n",
    "        if char in rletters:\n",
    "            cind = rletters.index(char)\n",
    "            board[cind] = char\n",
    "            rletters[cind] = '$'\n",
    "        else:\n",
    "            wrong += 1\n",
    "        print(' '.join(board))\n",
    "        e = wrong +1\n",
    "        print('\\n'.join(stages[0:e]))\n",
    "        if '_' not in board:\n",
    "            print('you win!')\n",
    "            print(' '.join(board))\n",
    "            win = True\n",
    "            break\n",
    "    if not win:\n",
    "        print('\\n'.join(stages[0:wrong+1]))\n",
    "        print('you lose! the answer is {}.'.format(word))\n",
    "        \n",
    "words = ['kafka','eminem','machine','cat','dog','phoenix']\n",
    "i = random.randint(0,len(words))\n",
    "hangman(words[i])"
   ]
  },
  {
   "cell_type": "code",
   "execution_count": null,
   "metadata": {},
   "outputs": [],
   "source": []
  }
 ],
 "metadata": {
  "kernelspec": {
   "display_name": "Python 3",
   "language": "python",
   "name": "python3"
  },
  "language_info": {
   "codemirror_mode": {
    "name": "ipython",
    "version": 3
   },
   "file_extension": ".py",
   "mimetype": "text/x-python",
   "name": "python",
   "nbconvert_exporter": "python",
   "pygments_lexer": "ipython3",
   "version": "3.6.6"
  }
 },
 "nbformat": 4,
 "nbformat_minor": 2
}
